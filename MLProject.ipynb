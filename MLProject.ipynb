{
 "cells": [
  {
   "cell_type": "code",
   "execution_count": 1,
   "metadata": {
    "ExecuteTime": {
     "end_time": "2025-02-24T21:43:04.705705Z",
     "start_time": "2025-02-24T21:42:54.615170Z"
    },
    "colab": {
     "base_uri": "https://localhost:8080/"
    },
    "id": "yiH5omaD6ihV",
    "outputId": "5c70325f-4881-407a-c445-abd82e649b00"
   },
   "outputs": [
    {
     "name": "stdout",
     "output_type": "stream",
     "text": [
      "Collecting spacy_transformers\n",
      "  Using cached spacy_transformers-1.3.8-cp312-cp312-win_amd64.whl.metadata (7.2 kB)\n",
      "Collecting spacy<4.1.0,>=3.5.0 (from spacy_transformers)\n",
      "  Using cached spacy-3.8.4-cp312-cp312-win_amd64.whl.metadata (27 kB)\n",
      "Requirement already satisfied: numpy>=1.19.0 in c:\\users\\sandy\\anaconda3\\lib\\site-packages (from spacy_transformers) (1.26.4)\n",
      "Requirement already satisfied: transformers<4.50.0,>=3.4.0 in c:\\users\\sandy\\anaconda3\\lib\\site-packages (from spacy_transformers) (4.49.0)\n",
      "Requirement already satisfied: torch>=1.8.0 in c:\\users\\sandy\\anaconda3\\lib\\site-packages (from spacy_transformers) (2.6.0)\n",
      "Requirement already satisfied: srsly<3.0.0,>=2.4.0 in c:\\users\\sandy\\anaconda3\\lib\\site-packages (from spacy_transformers) (2.5.1)\n",
      "Requirement already satisfied: spacy-alignments<1.0.0,>=0.7.2 in c:\\users\\sandy\\anaconda3\\lib\\site-packages (from spacy_transformers) (0.9.1)\n",
      "Requirement already satisfied: spacy-legacy<3.1.0,>=3.0.11 in c:\\users\\sandy\\anaconda3\\lib\\site-packages (from spacy<4.1.0,>=3.5.0->spacy_transformers) (3.0.12)\n",
      "Requirement already satisfied: spacy-loggers<2.0.0,>=1.0.0 in c:\\users\\sandy\\anaconda3\\lib\\site-packages (from spacy<4.1.0,>=3.5.0->spacy_transformers) (1.0.5)\n",
      "Requirement already satisfied: murmurhash<1.1.0,>=0.28.0 in c:\\users\\sandy\\anaconda3\\lib\\site-packages (from spacy<4.1.0,>=3.5.0->spacy_transformers) (1.0.12)\n",
      "Requirement already satisfied: cymem<2.1.0,>=2.0.2 in c:\\users\\sandy\\anaconda3\\lib\\site-packages (from spacy<4.1.0,>=3.5.0->spacy_transformers) (2.0.11)\n",
      "Requirement already satisfied: preshed<3.1.0,>=3.0.2 in c:\\users\\sandy\\anaconda3\\lib\\site-packages (from spacy<4.1.0,>=3.5.0->spacy_transformers) (3.0.9)\n",
      "Collecting thinc<8.4.0,>=8.3.4 (from spacy<4.1.0,>=3.5.0->spacy_transformers)\n",
      "  Using cached thinc-8.3.4-cp312-cp312-win_amd64.whl.metadata (15 kB)\n",
      "Requirement already satisfied: wasabi<1.2.0,>=0.9.1 in c:\\users\\sandy\\anaconda3\\lib\\site-packages (from spacy<4.1.0,>=3.5.0->spacy_transformers) (1.1.3)\n",
      "Requirement already satisfied: catalogue<2.1.0,>=2.0.6 in c:\\users\\sandy\\anaconda3\\lib\\site-packages (from spacy<4.1.0,>=3.5.0->spacy_transformers) (2.0.10)\n",
      "Requirement already satisfied: weasel<0.5.0,>=0.1.0 in c:\\users\\sandy\\anaconda3\\lib\\site-packages (from spacy<4.1.0,>=3.5.0->spacy_transformers) (0.4.1)\n",
      "Requirement already satisfied: typer<1.0.0,>=0.3.0 in c:\\users\\sandy\\anaconda3\\lib\\site-packages (from spacy<4.1.0,>=3.5.0->spacy_transformers) (0.9.0)\n",
      "Requirement already satisfied: tqdm<5.0.0,>=4.38.0 in c:\\users\\sandy\\anaconda3\\lib\\site-packages (from spacy<4.1.0,>=3.5.0->spacy_transformers) (4.66.5)\n",
      "Requirement already satisfied: requests<3.0.0,>=2.13.0 in c:\\users\\sandy\\anaconda3\\lib\\site-packages (from spacy<4.1.0,>=3.5.0->spacy_transformers) (2.32.3)\n",
      "Requirement already satisfied: pydantic!=1.8,!=1.8.1,<3.0.0,>=1.7.4 in c:\\users\\sandy\\anaconda3\\lib\\site-packages (from spacy<4.1.0,>=3.5.0->spacy_transformers) (2.8.2)\n",
      "Requirement already satisfied: jinja2 in c:\\users\\sandy\\anaconda3\\lib\\site-packages (from spacy<4.1.0,>=3.5.0->spacy_transformers) (3.1.4)\n",
      "Requirement already satisfied: setuptools in c:\\users\\sandy\\anaconda3\\lib\\site-packages (from spacy<4.1.0,>=3.5.0->spacy_transformers) (75.1.0)\n",
      "Requirement already satisfied: packaging>=20.0 in c:\\users\\sandy\\anaconda3\\lib\\site-packages (from spacy<4.1.0,>=3.5.0->spacy_transformers) (24.1)\n",
      "Requirement already satisfied: langcodes<4.0.0,>=3.2.0 in c:\\users\\sandy\\anaconda3\\lib\\site-packages (from spacy<4.1.0,>=3.5.0->spacy_transformers) (3.5.0)\n",
      "Requirement already satisfied: filelock in c:\\users\\sandy\\anaconda3\\lib\\site-packages (from torch>=1.8.0->spacy_transformers) (3.13.1)\n",
      "Requirement already satisfied: typing-extensions>=4.10.0 in c:\\users\\sandy\\anaconda3\\lib\\site-packages (from torch>=1.8.0->spacy_transformers) (4.11.0)\n",
      "Requirement already satisfied: networkx in c:\\users\\sandy\\anaconda3\\lib\\site-packages (from torch>=1.8.0->spacy_transformers) (3.3)\n",
      "Requirement already satisfied: fsspec in c:\\users\\sandy\\anaconda3\\lib\\site-packages (from torch>=1.8.0->spacy_transformers) (2024.6.1)\n",
      "Requirement already satisfied: sympy==1.13.1 in c:\\users\\sandy\\anaconda3\\lib\\site-packages (from torch>=1.8.0->spacy_transformers) (1.13.1)\n",
      "Requirement already satisfied: mpmath<1.4,>=1.1.0 in c:\\users\\sandy\\anaconda3\\lib\\site-packages (from sympy==1.13.1->torch>=1.8.0->spacy_transformers) (1.3.0)\n",
      "Requirement already satisfied: huggingface-hub<1.0,>=0.26.0 in c:\\users\\sandy\\anaconda3\\lib\\site-packages (from transformers<4.50.0,>=3.4.0->spacy_transformers) (0.29.1)\n",
      "Requirement already satisfied: pyyaml>=5.1 in c:\\users\\sandy\\anaconda3\\lib\\site-packages (from transformers<4.50.0,>=3.4.0->spacy_transformers) (6.0.1)\n",
      "Requirement already satisfied: regex!=2019.12.17 in c:\\users\\sandy\\anaconda3\\lib\\site-packages (from transformers<4.50.0,>=3.4.0->spacy_transformers) (2024.9.11)\n",
      "Requirement already satisfied: tokenizers<0.22,>=0.21 in c:\\users\\sandy\\anaconda3\\lib\\site-packages (from transformers<4.50.0,>=3.4.0->spacy_transformers) (0.21.0)\n",
      "Requirement already satisfied: safetensors>=0.4.1 in c:\\users\\sandy\\anaconda3\\lib\\site-packages (from transformers<4.50.0,>=3.4.0->spacy_transformers) (0.5.2)\n",
      "Requirement already satisfied: language-data>=1.2 in c:\\users\\sandy\\anaconda3\\lib\\site-packages (from langcodes<4.0.0,>=3.2.0->spacy<4.1.0,>=3.5.0->spacy_transformers) (1.3.0)\n",
      "Requirement already satisfied: annotated-types>=0.4.0 in c:\\users\\sandy\\anaconda3\\lib\\site-packages (from pydantic!=1.8,!=1.8.1,<3.0.0,>=1.7.4->spacy<4.1.0,>=3.5.0->spacy_transformers) (0.6.0)\n",
      "Requirement already satisfied: pydantic-core==2.20.1 in c:\\users\\sandy\\anaconda3\\lib\\site-packages (from pydantic!=1.8,!=1.8.1,<3.0.0,>=1.7.4->spacy<4.1.0,>=3.5.0->spacy_transformers) (2.20.1)\n",
      "Requirement already satisfied: charset-normalizer<4,>=2 in c:\\users\\sandy\\anaconda3\\lib\\site-packages (from requests<3.0.0,>=2.13.0->spacy<4.1.0,>=3.5.0->spacy_transformers) (3.3.2)\n",
      "Requirement already satisfied: idna<4,>=2.5 in c:\\users\\sandy\\anaconda3\\lib\\site-packages (from requests<3.0.0,>=2.13.0->spacy<4.1.0,>=3.5.0->spacy_transformers) (3.7)\n",
      "Requirement already satisfied: urllib3<3,>=1.21.1 in c:\\users\\sandy\\anaconda3\\lib\\site-packages (from requests<3.0.0,>=2.13.0->spacy<4.1.0,>=3.5.0->spacy_transformers) (2.2.3)\n",
      "Requirement already satisfied: certifi>=2017.4.17 in c:\\users\\sandy\\anaconda3\\lib\\site-packages (from requests<3.0.0,>=2.13.0->spacy<4.1.0,>=3.5.0->spacy_transformers) (2025.1.31)\n",
      "Requirement already satisfied: blis<1.3.0,>=1.2.0 in c:\\users\\sandy\\anaconda3\\lib\\site-packages (from thinc<8.4.0,>=8.3.4->spacy<4.1.0,>=3.5.0->spacy_transformers) (1.2.0)\n",
      "Requirement already satisfied: confection<1.0.0,>=0.0.1 in c:\\users\\sandy\\anaconda3\\lib\\site-packages (from thinc<8.4.0,>=8.3.4->spacy<4.1.0,>=3.5.0->spacy_transformers) (0.1.5)\n",
      "Requirement already satisfied: colorama in c:\\users\\sandy\\anaconda3\\lib\\site-packages (from tqdm<5.0.0,>=4.38.0->spacy<4.1.0,>=3.5.0->spacy_transformers) (0.4.6)\n",
      "Requirement already satisfied: click<9.0.0,>=7.1.1 in c:\\users\\sandy\\anaconda3\\lib\\site-packages (from typer<1.0.0,>=0.3.0->spacy<4.1.0,>=3.5.0->spacy_transformers) (8.1.7)\n",
      "Requirement already satisfied: cloudpathlib<1.0.0,>=0.7.0 in c:\\users\\sandy\\anaconda3\\lib\\site-packages (from weasel<0.5.0,>=0.1.0->spacy<4.1.0,>=3.5.0->spacy_transformers) (0.20.0)\n",
      "Requirement already satisfied: smart-open<8.0.0,>=5.2.1 in c:\\users\\sandy\\anaconda3\\lib\\site-packages (from weasel<0.5.0,>=0.1.0->spacy<4.1.0,>=3.5.0->spacy_transformers) (5.2.1)\n",
      "Requirement already satisfied: MarkupSafe>=2.0 in c:\\users\\sandy\\anaconda3\\lib\\site-packages (from jinja2->spacy<4.1.0,>=3.5.0->spacy_transformers) (2.1.3)\n",
      "Requirement already satisfied: marisa-trie>=1.1.0 in c:\\users\\sandy\\anaconda3\\lib\\site-packages (from language-data>=1.2->langcodes<4.0.0,>=3.2.0->spacy<4.1.0,>=3.5.0->spacy_transformers) (1.2.1)\n",
      "Using cached spacy_transformers-1.3.8-cp312-cp312-win_amd64.whl (343 kB)\n",
      "Using cached spacy-3.8.4-cp312-cp312-win_amd64.whl (11.8 MB)\n",
      "Using cached thinc-8.3.4-cp312-cp312-win_amd64.whl (1.5 MB)\n",
      "Installing collected packages: thinc, spacy, spacy_transformers\n",
      "Successfully installed spacy-3.8.4 spacy_transformers-1.3.8 thinc-8.3.4\n",
      "Requirement already satisfied: spacy in c:\\users\\sandy\\anaconda3\\lib\\site-packages (3.8.4)\n",
      "Requirement already satisfied: spacy-legacy<3.1.0,>=3.0.11 in c:\\users\\sandy\\anaconda3\\lib\\site-packages (from spacy) (3.0.12)\n",
      "Requirement already satisfied: spacy-loggers<2.0.0,>=1.0.0 in c:\\users\\sandy\\anaconda3\\lib\\site-packages (from spacy) (1.0.5)\n",
      "Requirement already satisfied: murmurhash<1.1.0,>=0.28.0 in c:\\users\\sandy\\anaconda3\\lib\\site-packages (from spacy) (1.0.12)\n",
      "Requirement already satisfied: cymem<2.1.0,>=2.0.2 in c:\\users\\sandy\\anaconda3\\lib\\site-packages (from spacy) (2.0.11)\n",
      "Requirement already satisfied: preshed<3.1.0,>=3.0.2 in c:\\users\\sandy\\anaconda3\\lib\\site-packages (from spacy) (3.0.9)\n",
      "Requirement already satisfied: thinc<8.4.0,>=8.3.4 in c:\\users\\sandy\\anaconda3\\lib\\site-packages (from spacy) (8.3.4)\n",
      "Requirement already satisfied: wasabi<1.2.0,>=0.9.1 in c:\\users\\sandy\\anaconda3\\lib\\site-packages (from spacy) (1.1.3)\n",
      "Requirement already satisfied: srsly<3.0.0,>=2.4.3 in c:\\users\\sandy\\anaconda3\\lib\\site-packages (from spacy) (2.5.1)\n",
      "Requirement already satisfied: catalogue<2.1.0,>=2.0.6 in c:\\users\\sandy\\anaconda3\\lib\\site-packages (from spacy) (2.0.10)\n",
      "Requirement already satisfied: weasel<0.5.0,>=0.1.0 in c:\\users\\sandy\\anaconda3\\lib\\site-packages (from spacy) (0.4.1)\n",
      "Requirement already satisfied: typer<1.0.0,>=0.3.0 in c:\\users\\sandy\\anaconda3\\lib\\site-packages (from spacy) (0.9.0)\n",
      "Requirement already satisfied: tqdm<5.0.0,>=4.38.0 in c:\\users\\sandy\\anaconda3\\lib\\site-packages (from spacy) (4.66.5)\n",
      "Requirement already satisfied: numpy>=1.19.0 in c:\\users\\sandy\\anaconda3\\lib\\site-packages (from spacy) (1.26.4)\n",
      "Requirement already satisfied: requests<3.0.0,>=2.13.0 in c:\\users\\sandy\\anaconda3\\lib\\site-packages (from spacy) (2.32.3)\n",
      "Requirement already satisfied: pydantic!=1.8,!=1.8.1,<3.0.0,>=1.7.4 in c:\\users\\sandy\\anaconda3\\lib\\site-packages (from spacy) (2.8.2)\n",
      "Requirement already satisfied: jinja2 in c:\\users\\sandy\\anaconda3\\lib\\site-packages (from spacy) (3.1.4)\n",
      "Requirement already satisfied: setuptools in c:\\users\\sandy\\anaconda3\\lib\\site-packages (from spacy) (75.1.0)\n",
      "Requirement already satisfied: packaging>=20.0 in c:\\users\\sandy\\anaconda3\\lib\\site-packages (from spacy) (24.1)\n",
      "Requirement already satisfied: langcodes<4.0.0,>=3.2.0 in c:\\users\\sandy\\anaconda3\\lib\\site-packages (from spacy) (3.5.0)\n",
      "Requirement already satisfied: language-data>=1.2 in c:\\users\\sandy\\anaconda3\\lib\\site-packages (from langcodes<4.0.0,>=3.2.0->spacy) (1.3.0)\n",
      "Requirement already satisfied: annotated-types>=0.4.0 in c:\\users\\sandy\\anaconda3\\lib\\site-packages (from pydantic!=1.8,!=1.8.1,<3.0.0,>=1.7.4->spacy) (0.6.0)\n",
      "Requirement already satisfied: pydantic-core==2.20.1 in c:\\users\\sandy\\anaconda3\\lib\\site-packages (from pydantic!=1.8,!=1.8.1,<3.0.0,>=1.7.4->spacy) (2.20.1)\n",
      "Requirement already satisfied: typing-extensions>=4.6.1 in c:\\users\\sandy\\anaconda3\\lib\\site-packages (from pydantic!=1.8,!=1.8.1,<3.0.0,>=1.7.4->spacy) (4.11.0)\n",
      "Requirement already satisfied: charset-normalizer<4,>=2 in c:\\users\\sandy\\anaconda3\\lib\\site-packages (from requests<3.0.0,>=2.13.0->spacy) (3.3.2)\n",
      "Requirement already satisfied: idna<4,>=2.5 in c:\\users\\sandy\\anaconda3\\lib\\site-packages (from requests<3.0.0,>=2.13.0->spacy) (3.7)\n",
      "Requirement already satisfied: urllib3<3,>=1.21.1 in c:\\users\\sandy\\anaconda3\\lib\\site-packages (from requests<3.0.0,>=2.13.0->spacy) (2.2.3)\n",
      "Requirement already satisfied: certifi>=2017.4.17 in c:\\users\\sandy\\anaconda3\\lib\\site-packages (from requests<3.0.0,>=2.13.0->spacy) (2025.1.31)\n",
      "Requirement already satisfied: blis<1.3.0,>=1.2.0 in c:\\users\\sandy\\anaconda3\\lib\\site-packages (from thinc<8.4.0,>=8.3.4->spacy) (1.2.0)\n",
      "Requirement already satisfied: confection<1.0.0,>=0.0.1 in c:\\users\\sandy\\anaconda3\\lib\\site-packages (from thinc<8.4.0,>=8.3.4->spacy) (0.1.5)\n",
      "Requirement already satisfied: colorama in c:\\users\\sandy\\anaconda3\\lib\\site-packages (from tqdm<5.0.0,>=4.38.0->spacy) (0.4.6)\n",
      "Requirement already satisfied: click<9.0.0,>=7.1.1 in c:\\users\\sandy\\anaconda3\\lib\\site-packages (from typer<1.0.0,>=0.3.0->spacy) (8.1.7)\n",
      "Requirement already satisfied: cloudpathlib<1.0.0,>=0.7.0 in c:\\users\\sandy\\anaconda3\\lib\\site-packages (from weasel<0.5.0,>=0.1.0->spacy) (0.20.0)\n",
      "Requirement already satisfied: smart-open<8.0.0,>=5.2.1 in c:\\users\\sandy\\anaconda3\\lib\\site-packages (from weasel<0.5.0,>=0.1.0->spacy) (5.2.1)\n",
      "Requirement already satisfied: MarkupSafe>=2.0 in c:\\users\\sandy\\anaconda3\\lib\\site-packages (from jinja2->spacy) (2.1.3)\n",
      "Requirement already satisfied: marisa-trie>=1.1.0 in c:\\users\\sandy\\anaconda3\\lib\\site-packages (from language-data>=1.2->langcodes<4.0.0,>=3.2.0->spacy) (1.2.1)\n"
     ]
    }
   ],
   "source": [
    "!pip install spacy_transformers\n",
    "!pip install -U spacy"
   ]
  },
  {
   "cell_type": "code",
   "execution_count": null,
   "metadata": {
    "ExecuteTime": {
     "end_time": "2025-02-24T21:47:24.114915Z",
     "start_time": "2025-02-24T21:47:24.104273Z"
    }
   },
   "outputs": [],
   "source": [
    "def json_parser(data):\n",
    "  parsed_data = []\n",
    "  for item in data:\n",
    "    text = item[\"text\"]\n",
    "    labels = []\n",
    "    for entity in item[\"label\"]:\n",
    "      label = entity[\"labels\"][0].capitalize()\n",
    "      start = entity[\"start\"]\n",
    "      end = entity[\"end\"]\n",
    "      labels.append((start, end, label))\n",
    "    parsed_data.append((text, labels))\n",
    "  return parsed_data"
   ]
  },
  {
   "cell_type": "code",
   "execution_count": 2,
   "metadata": {
    "ExecuteTime": {
     "end_time": "2025-02-24T21:47:24.769150Z",
     "start_time": "2025-02-24T21:47:24.762260Z"
    },
    "id": "7QWLbvEr7eZE"
   },
   "outputs": [],
   "source": [
    "def pubtator_extractor(data):\n",
    "  \"\"\"Converts data from pubtator to Spacy's JSON Format\"\"\"\n",
    "  parsed_data = []\n",
    "  for line in data:\n",
    "    line = line.strip()\n",
    "    if line == \"\":\n",
    "       if parsed_entity:\n",
    "        parsed_data.append(tuple(parsed_entity))\n",
    "    if \"|t|\" in line:\n",
    "      parsed_entity = []\n",
    "      current_title = line.split(\"|t|\")[1] + \" \"\n",
    "    elif \"|a|\" in line:\n",
    "      parsed_entity.append(current_title + line.split(\"|a|\")[1])\n",
    "    elif \"Disease\" in line or \"Chemical\" in line:\n",
    "      if len(parsed_entity) == 1:\n",
    "        parsed_entity.append([])\n",
    "      start = int(line.split(\"\\t\")[1])\n",
    "      end = int(line.split(\"\\t\")[2])\n",
    "      label = line.split(\"\\t\")[4]\n",
    "      parsed_entity[1].append((start, end, label))\n",
    "  return parsed_data"
   ]
  },
  {
   "cell_type": "code",
   "execution_count": 3,
   "metadata": {
    "ExecuteTime": {
     "end_time": "2025-02-24T21:47:25.387757Z",
     "start_time": "2025-02-24T21:47:25.354343Z"
    },
    "id": "rcmiY9Ka80y0"
   },
   "outputs": [],
   "source": [
    "with open(\"data/CDR_DevelopmentSet.PubTator.txt\", mode=\"r\") as f:\n",
    "  dev_data = pubtator_extractor(f.readlines())\n",
    "  f.close()"
   ]
  },
  {
   "cell_type": "code",
   "execution_count": 4,
   "metadata": {
    "ExecuteTime": {
     "end_time": "2025-02-24T21:47:25.886136Z",
     "start_time": "2025-02-24T21:47:25.873752Z"
    }
   },
   "outputs": [],
   "source": [
    "# Let's import train_data json file and parse it to spacy format\n",
    "import json\n",
    "with open(\"data/initial_annotated_train.json\", mode=\"r\") as f:\n",
    "  train_data = json_parser(json.load(f))\n",
    "  f.close()"
   ]
  },
  {
   "cell_type": "code",
   "execution_count": 5,
   "metadata": {
    "ExecuteTime": {
     "end_time": "2025-02-24T21:47:26.590038Z",
     "start_time": "2025-02-24T21:47:26.585038Z"
    }
   },
   "outputs": [
    {
     "name": "stdout",
     "output_type": "stream",
     "text": [
      "('Naloxone reverses the antihypertensive effect of clonidine. In unanesthetized, spontaneously hypertensive rats the decrease in blood pressure and heart rate produced by intravenous clonidine, 5 to 20 micrograms/kg, was inhibited or reversed by nalozone, 0.2 to 2 mg/kg. The hypotensive effect of 100 mg/kg alpha-methyldopa was also partially reversed by naloxone. Naloxone alone did not affect either blood pressure or heart rate. In brain membranes from spontaneously hypertensive rats clonidine, 10(-8) to 10(-5) M, did not influence stereoselective binding of [3H]-naloxone (8 nM), and naloxone, 10(-8) to 10(-4) M, did not influence clonidine-suppressible binding of [3H]-dihydroergocryptine (1 nM). These findings indicate that in spontaneously hypertensive rats the effects of central alpha-adrenoceptor stimulation involve activation of opiate receptors. As naloxone and clonidine do not appear to interact with the same receptor site, the observed functional antagonism suggests the release of an endogenous opiate by clonidine or alpha-methyldopa and the possible role of the opiate in the central control of sympathetic tone.', [(0, 8, 'CHEMICAL'), (22, 39, 'DISEASE'), (49, 58, 'CHEMICAL'), (93, 105, 'DISEASE'), (181, 190, 'CHEMICAL'), (244, 252, 'CHEMICAL'), (306, 322, 'CHEMICAL'), (354, 362, 'CHEMICAL'), (364, 372, 'CHEMICAL'), (469, 481, 'DISEASE'), (487, 496, 'CHEMICAL'), (563, 576, 'CHEMICAL'), (671, 695, 'CHEMICAL'), (589, 597, 'CHEMICAL'), (637, 646, 'CHEMICAL'), (750, 762, 'DISEASE'), (865, 873, 'CHEMICAL'), (878, 887, 'CHEMICAL'), (1026, 1035, 'CHEMICAL'), (1039, 1055, 'CHEMICAL')])\n",
      "('Tricuspid valve regurgitation and lithium carbonate toxicity in a newborn infant. A newborn with massive tricuspid regurgitation, atrial flutter, congestive heart failure, and a high serum lithium level is described. This is the first patient to initially manifest tricuspid regurgitation and atrial flutter, and the 11th described patient with cardiac disease among infants exposed to lithium compounds in the first trimester of pregnancy. Sixty-three percent of these infants had tricuspid valve involvement. Lithium carbonate may be a factor in the increasing incidence of congenital heart disease when taken during early pregnancy. It also causes neurologic depression, cyanosis, and cardiac arrhythmia when consumed prior to delivery.', [(0, 29, 'Disease'), (34, 51, 'Chemical'), (52, 60, 'Disease'), (105, 128, 'Disease'), (130, 144, 'Disease'), (146, 170, 'Disease'), (189, 196, 'Chemical'), (265, 288, 'Disease'), (293, 307, 'Disease'), (345, 360, 'Disease'), (386, 393, 'Chemical'), (511, 528, 'Chemical'), (576, 600, 'Disease'), (651, 672, 'Disease'), (674, 682, 'Disease'), (688, 706, 'Disease')])\n"
     ]
    }
   ],
   "source": [
    "# Let's Verify the data struct \n",
    "print(train_data[0])\n",
    "print(dev_data[0])"
   ]
  },
  {
   "cell_type": "code",
   "execution_count": 6,
   "metadata": {
    "ExecuteTime": {
     "end_time": "2025-02-24T21:47:31.045055Z",
     "start_time": "2025-02-24T21:47:27.211349Z"
    },
    "id": "UTDIcmH3-m4C"
   },
   "outputs": [],
   "source": [
    "import spacy\n",
    "from spacy.tokens import DocBin\n",
    "\n",
    "def db_creator(data):\n",
    "  db = DocBin()\n",
    "  nlp = spacy.blank(\"en\")\n",
    "\n",
    "  for text, annotations in data:\n",
    "    doc = nlp(text)\n",
    "    ents = []\n",
    "    for start, end, label in annotations:\n",
    "      span = doc.char_span(start, end, label=label)\n",
    "      if span is None:\n",
    "        continue\n",
    "      else:   \n",
    "        ents.append(span)\n",
    "      doc.ents = ents\n",
    "    db.add(doc)\n",
    "  return db"
   ]
  },
  {
   "cell_type": "code",
   "execution_count": 7,
   "metadata": {
    "ExecuteTime": {
     "end_time": "2025-02-24T21:47:37.085510Z",
     "start_time": "2025-02-24T21:47:31.056826Z"
    },
    "id": "_ykhx_C_CSgu"
   },
   "outputs": [],
   "source": [
    "train = db_creator(train_data)\n",
    "train.to_disk(\"train.spacy\")\n",
    "\n",
    "dev = db_creator(dev_data)\n",
    "dev.to_disk(\"dev.spacy\")"
   ]
  },
  {
   "cell_type": "code",
   "execution_count": 9,
   "metadata": {
    "ExecuteTime": {
     "end_time": "2025-02-24T21:44:00.133463Z",
     "start_time": "2025-02-24T21:43:52.294767Z"
    }
   },
   "outputs": [
    {
     "name": "stdout",
     "output_type": "stream",
     "text": [
      "\u001b[38;5;2m[+] Auto-filled config with all values\u001b[0m\n",
      "\u001b[38;5;2m[+] Saved config\u001b[0m\n",
      "spacy\\config.cfg\n",
      "You can now add your data and train your pipeline:\n",
      "python -m spacy train config.cfg --paths.train ./train.spacy --paths.dev ./dev.spacy\n"
     ]
    }
   ],
   "source": [
    "!python -m spacy init fill-config ./spacy/base_config.cfg ./spacy/config.cfg"
   ]
  },
  {
   "cell_type": "code",
   "execution_count": 11,
   "metadata": {
    "ExecuteTime": {
     "end_time": "2025-02-24T21:46:27.480562Z",
     "start_time": "2025-02-24T21:46:26.781605Z"
    },
    "colab": {
     "base_uri": "https://localhost:8080/"
    },
    "id": "fk6d8rMvCpDf",
    "outputId": "f919b7ba-d63d-488a-f5dd-ff22cf43d162"
   },
   "outputs": [
    {
     "name": "stdout",
     "output_type": "stream",
     "text": [
      "^C\n"
     ]
    }
   ],
   "source": [
    "!python -m spacy train ./spacy/config.cfg --output ./output --paths.train ./train.spacy --paths.dev ./dev.spacy"
   ]
  },
  {
   "cell_type": "code",
   "execution_count": null,
   "metadata": {},
   "outputs": [],
   "source": []
  }
 ],
 "metadata": {
  "accelerator": "GPU",
  "colab": {
   "gpuType": "T4",
   "provenance": []
  },
  "kernelspec": {
   "display_name": "mlpr",
   "language": "python",
   "name": "python3"
  },
  "language_info": {
   "codemirror_mode": {
    "name": "ipython",
    "version": 3
   },
   "file_extension": ".py",
   "mimetype": "text/x-python",
   "name": "python",
   "nbconvert_exporter": "python",
   "pygments_lexer": "ipython3",
   "version": "3.12.9"
  }
 },
 "nbformat": 4,
 "nbformat_minor": 4
}
